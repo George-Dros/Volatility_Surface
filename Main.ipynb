{
 "cells": [
  {
   "cell_type": "code",
   "execution_count": 1,
   "id": "26fa8306-9547-41fc-bc06-85dbee439db0",
   "metadata": {},
   "outputs": [],
   "source": [
    "import yfinance as yf\n",
    "import pandas as pd\n",
    "import functions as f\n",
    "\n",
    "%load_ext autoreload\n",
    "%autoreload 2\n",
    "\n",
    "stock = yf.Ticker(\"SPY\")\n",
    "dividends = stock.dividends"
   ]
  },
  {
   "cell_type": "code",
   "execution_count": 2,
   "id": "65612efb-75df-4d83-87ac-072407999345",
   "metadata": {},
   "outputs": [],
   "source": [
    "spot_prices = stock.history(period=\"1y\")[\"Close\"].to_frame()\n",
    "spot_price = stock.history(period=\"1d\")[\"Close\"].iloc[-1]"
   ]
  },
  {
   "cell_type": "code",
   "execution_count": 3,
   "id": "70975d78-188a-4a1c-8493-ad59e8b2d99e",
   "metadata": {},
   "outputs": [],
   "source": [
    "daily_returns = spot_prices.pct_change().dropna()"
   ]
  },
  {
   "cell_type": "code",
   "execution_count": 4,
   "id": "5df26460-b6aa-4ce9-8b23-4546c3089059",
   "metadata": {},
   "outputs": [],
   "source": [
    "historical_volatility = daily_returns.std() * (252**0.5)"
   ]
  },
  {
   "cell_type": "code",
   "execution_count": 5,
   "id": "ccd489d0-aa72-4711-a756-0eca9d2c46ff",
   "metadata": {},
   "outputs": [],
   "source": [
    "expiration_dates = stock.options"
   ]
  },
  {
   "cell_type": "code",
   "execution_count": 6,
   "id": "e7f1e81a-9719-4e08-bbb6-ed7072716d4f",
   "metadata": {},
   "outputs": [],
   "source": [
    "calls_all = [stock.option_chain(date).calls for date in expiration_dates]\n",
    "puts_all = [stock.option_chain(date).puts for date in expiration_dates]"
   ]
  },
  {
   "cell_type": "code",
   "execution_count": 7,
   "id": "a34b7bb3-3fb5-4456-a1a5-2feb039322f6",
   "metadata": {},
   "outputs": [],
   "source": [
    "calls_dict = {date: stock.option_chain(date).calls for date in expiration_dates}\n",
    "puts_dict = {date: stock.option_chain(date).puts for date in expiration_dates}"
   ]
  },
  {
   "cell_type": "code",
   "execution_count": 8,
   "id": "9f7f4b67-866b-4588-a2f7-e7742201d792",
   "metadata": {},
   "outputs": [],
   "source": [
    "from datetime import datetime\n",
    "\n",
    "expiration_df = pd.DataFrame({'expiration': expiration_dates})\n",
    "expiration_df['time_to_expiry'] = expiration_df['expiration'].apply(\n",
    "    lambda x: (datetime.strptime(x, '%Y-%m-%d') - datetime.now()).days / 365\n",
    ")"
   ]
  },
  {
   "cell_type": "code",
   "execution_count": 9,
   "id": "7d2fc365-9a37-4c80-8117-7261cf920476",
   "metadata": {},
   "outputs": [],
   "source": [
    "# Add expiration column to each DataFrame in calls_dict and puts_dict\n",
    "for date, df in calls_dict.items():\n",
    "    df['expiration'] = date\n",
    "\n",
    "for date, df in puts_dict.items():\n",
    "    df['expiration'] = date\n",
    "\n",
    "# Concatenate all DataFrames from calls_dict and puts_dict\n",
    "calls_all = pd.concat(calls_dict.values())\n",
    "puts_all = pd.concat(puts_dict.values())\n",
    "\n",
    "# Combine calls and puts into a single DataFrame\n",
    "options_data = pd.concat([calls_all, puts_all])\n",
    "\n",
    "# Select desired columns\n",
    "calls_data = calls_all[['contractSymbol', 'strike', 'lastPrice', 'impliedVolatility', 'expiration']]\n"
   ]
  },
  {
   "cell_type": "code",
   "execution_count": 10,
   "id": "794bb074-8680-4e6d-a4cb-7749558ac1ca",
   "metadata": {},
   "outputs": [
    {
     "data": {
      "text/plain": [
       "contractSymbol       SPY241107C00400000\n",
       "strike                            400.0\n",
       "lastPrice                         170.8\n",
       "impliedVolatility              2.726566\n",
       "expiration                   2024-11-07\n",
       "Name: 0, dtype: object"
      ]
     },
     "execution_count": 10,
     "metadata": {},
     "output_type": "execute_result"
    }
   ],
   "source": [
    "calls_data.iloc[0]"
   ]
  },
  {
   "cell_type": "code",
   "execution_count": 11,
   "id": "10f426ca-7b03-44b8-91e3-08cdbd2503c8",
   "metadata": {},
   "outputs": [
    {
     "data": {
      "text/plain": [
       "0.0"
      ]
     },
     "execution_count": 11,
     "metadata": {},
     "output_type": "execute_result"
    }
   ],
   "source": [
    "bs = f.BlackScholes(\n",
    "    type=f.OptionType.PUT,\n",
    "    spot=594.7899169921875,\n",
    "    exercise=105,\n",
    "    years=0.8931506849315068\n",
    ",\n",
    "    volatility=0.11209501132709629\n",
    ",\n",
    "    risk_free_rate=0.0442,\n",
    "    dividend_yield=0\n",
    ")\n",
    "bs.price()"
   ]
  },
  {
   "cell_type": "code",
   "execution_count": 12,
   "id": "45a25aed-25b3-4ee9-8baf-2e9ee6b55a50",
   "metadata": {},
   "outputs": [
    {
     "data": {
      "text/plain": [
       "0.11345790253283242"
      ]
     },
     "execution_count": 12,
     "metadata": {},
     "output_type": "execute_result"
    }
   ],
   "source": [
    "f.BlackScholes.find_implied_volatility(\n",
    "    type=f.OptionType.CALL,\n",
    "    spot=spot_price,\n",
    "    exercise=calls_data.iloc[3237][\"strike\"],\n",
    "    years=f.calculate_time_to_expiration(calls_data.iloc[3237][\"expiration\"]),\n",
    "    target_price=calls_data.iloc[3237][\"lastPrice\"],\n",
    "    risk_free_rate=0.0442,\n",
    "    dividend_yield=0\n",
    ")\n"
   ]
  },
  {
   "cell_type": "code",
   "execution_count": 13,
   "id": "ee8d96e7-0c05-468d-b11b-7019d5491adb",
   "metadata": {},
   "outputs": [
    {
     "data": {
      "text/plain": [
       "0.8931506849315068"
      ]
     },
     "execution_count": 13,
     "metadata": {},
     "output_type": "execute_result"
    }
   ],
   "source": [
    "f.calculate_time_to_expiration(calls_data.iloc[3237][\"expiration\"])"
   ]
  },
  {
   "cell_type": "code",
   "execution_count": 14,
   "id": "4b0da265-f2a4-436c-8087-ee3557b35f6e",
   "metadata": {},
   "outputs": [
    {
     "data": {
      "text/plain": [
       "750.0"
      ]
     },
     "execution_count": 14,
     "metadata": {},
     "output_type": "execute_result"
    }
   ],
   "source": [
    "calls_data.iloc[3237][\"strike\"]"
   ]
  },
  {
   "cell_type": "code",
   "execution_count": 15,
   "id": "6a5b115d-78dd-47fa-a104-e7f0b7140482",
   "metadata": {},
   "outputs": [
    {
     "data": {
      "text/plain": [
       "1.06"
      ]
     },
     "execution_count": 15,
     "metadata": {},
     "output_type": "execute_result"
    }
   ],
   "source": [
    "calls_data.iloc[3237][\"lastPrice\"]"
   ]
  },
  {
   "cell_type": "code",
   "execution_count": 16,
   "id": "0758900d-eb4a-4403-aa05-0aae0ed4334a",
   "metadata": {},
   "outputs": [
    {
     "data": {
      "text/plain": [
       "contractSymbol       SPY250930C00750000\n",
       "strike                            750.0\n",
       "lastPrice                          1.06\n",
       "impliedVolatility              0.130441\n",
       "expiration                   2025-09-30\n",
       "Name: 133, dtype: object"
      ]
     },
     "execution_count": 16,
     "metadata": {},
     "output_type": "execute_result"
    }
   ],
   "source": [
    "calls_data.iloc[3237]"
   ]
  },
  {
   "cell_type": "code",
   "execution_count": 17,
   "id": "35b77452-0bee-4640-b8d1-3fc16db06b66",
   "metadata": {},
   "outputs": [
    {
     "data": {
      "text/plain": [
       "pandas.core.frame.DataFrame"
      ]
     },
     "execution_count": 17,
     "metadata": {},
     "output_type": "execute_result"
    }
   ],
   "source": [
    "type(calls_data)"
   ]
  },
  {
   "cell_type": "code",
   "execution_count": 61,
   "id": "13f5995b-86f3-4e41-93f0-30bf5fa82cab",
   "metadata": {},
   "outputs": [],
   "source": [
    "import warnings\n",
    "warnings.filterwarnings(\"ignore\", category=FutureWarning)\n",
    "warnings.filterwarnings(\"ignore\", category=RuntimeWarning)\n",
    "\n",
    "imp_vol_data = pd.DataFrame(columns=[\"ContractSymbol\",\"StrikePrice\",\"TimeToExpiry\", \"ImpliedVolatility\"])\n",
    "imp_vol_data.name = \"ImpliedVolatility\"\n",
    "df_index = 0\n",
    "\n",
    "for i in range(len(calls_data)):\n",
    "    if f.calculate_time_to_expiration(calls_data.iloc[i][\"expiration\"]) > 0:\n",
    "        imp = f.BlackScholes.find_implied_volatility(\n",
    "        type=f.OptionType.CALL,\n",
    "        spot=spot_price,\n",
    "        exercise=calls_data.iloc[i][\"strike\"],\n",
    "        years=f.calculate_time_to_expiration(calls_data.iloc[i][\"expiration\"]),\n",
    "        target_price=calls_data.iloc[i][\"lastPrice\"],\n",
    "        risk_free_rate=0.0442,\n",
    "        dividend_yield=0\n",
    "        )\n",
    "        imp_vol_data.loc[df_index] = [calls_data.iloc[i]['contractSymbol'],calls_data.iloc[i][\"strike\"],\\\n",
    "                                calls_data.iloc[i][\"expiration\"],imp]\n",
    "        df_index += 1           "
   ]
  },
  {
   "cell_type": "code",
   "execution_count": 63,
   "id": "afdf87f2-d9e4-461c-8a76-584176e9a79b",
   "metadata": {},
   "outputs": [],
   "source": [
    "imp_vol_data = imp_vol_data.dropna()"
   ]
  },
  {
   "cell_type": "code",
   "execution_count": 65,
   "id": "905b2c37-7b76-4180-a258-e8375e3b83f2",
   "metadata": {},
   "outputs": [
    {
     "data": {
      "text/html": [
       "<div>\n",
       "<style scoped>\n",
       "    .dataframe tbody tr th:only-of-type {\n",
       "        vertical-align: middle;\n",
       "    }\n",
       "\n",
       "    .dataframe tbody tr th {\n",
       "        vertical-align: top;\n",
       "    }\n",
       "\n",
       "    .dataframe thead th {\n",
       "        text-align: right;\n",
       "    }\n",
       "</style>\n",
       "<table border=\"1\" class=\"dataframe\">\n",
       "  <thead>\n",
       "    <tr style=\"text-align: right;\">\n",
       "      <th></th>\n",
       "      <th>ContractSymbol</th>\n",
       "      <th>StrikePrice</th>\n",
       "      <th>TimeToExpiry</th>\n",
       "      <th>ImpliedVolatility</th>\n",
       "    </tr>\n",
       "  </thead>\n",
       "  <tbody>\n",
       "    <tr>\n",
       "      <th>43</th>\n",
       "      <td>SPY241111C00590000</td>\n",
       "      <td>590.0</td>\n",
       "      <td>2024-11-11</td>\n",
       "      <td>0.104890</td>\n",
       "    </tr>\n",
       "    <tr>\n",
       "      <th>44</th>\n",
       "      <td>SPY241111C00591000</td>\n",
       "      <td>591.0</td>\n",
       "      <td>2024-11-11</td>\n",
       "      <td>0.098912</td>\n",
       "    </tr>\n",
       "    <tr>\n",
       "      <th>45</th>\n",
       "      <td>SPY241111C00592000</td>\n",
       "      <td>592.0</td>\n",
       "      <td>2024-11-11</td>\n",
       "      <td>0.089438</td>\n",
       "    </tr>\n",
       "    <tr>\n",
       "      <th>46</th>\n",
       "      <td>SPY241111C00593000</td>\n",
       "      <td>593.0</td>\n",
       "      <td>2024-11-11</td>\n",
       "      <td>0.098301</td>\n",
       "    </tr>\n",
       "    <tr>\n",
       "      <th>47</th>\n",
       "      <td>SPY241111C00594000</td>\n",
       "      <td>594.0</td>\n",
       "      <td>2024-11-11</td>\n",
       "      <td>0.104978</td>\n",
       "    </tr>\n",
       "    <tr>\n",
       "      <th>...</th>\n",
       "      <td>...</td>\n",
       "      <td>...</td>\n",
       "      <td>...</td>\n",
       "      <td>...</td>\n",
       "    </tr>\n",
       "    <tr>\n",
       "      <th>3629</th>\n",
       "      <td>SPY270115C00880000</td>\n",
       "      <td>880.0</td>\n",
       "      <td>2027-01-15</td>\n",
       "      <td>0.106221</td>\n",
       "    </tr>\n",
       "    <tr>\n",
       "      <th>3630</th>\n",
       "      <td>SPY270115C00885000</td>\n",
       "      <td>885.0</td>\n",
       "      <td>2027-01-15</td>\n",
       "      <td>0.113112</td>\n",
       "    </tr>\n",
       "    <tr>\n",
       "      <th>3631</th>\n",
       "      <td>SPY270115C00890000</td>\n",
       "      <td>890.0</td>\n",
       "      <td>2027-01-15</td>\n",
       "      <td>0.108324</td>\n",
       "    </tr>\n",
       "    <tr>\n",
       "      <th>3632</th>\n",
       "      <td>SPY270115C00895000</td>\n",
       "      <td>895.0</td>\n",
       "      <td>2027-01-15</td>\n",
       "      <td>0.108059</td>\n",
       "    </tr>\n",
       "    <tr>\n",
       "      <th>3633</th>\n",
       "      <td>SPY270115C00900000</td>\n",
       "      <td>900.0</td>\n",
       "      <td>2027-01-15</td>\n",
       "      <td>0.114845</td>\n",
       "    </tr>\n",
       "  </tbody>\n",
       "</table>\n",
       "<p>1895 rows × 4 columns</p>\n",
       "</div>"
      ],
      "text/plain": [
       "          ContractSymbol  StrikePrice TimeToExpiry  ImpliedVolatility\n",
       "43    SPY241111C00590000        590.0   2024-11-11           0.104890\n",
       "44    SPY241111C00591000        591.0   2024-11-11           0.098912\n",
       "45    SPY241111C00592000        592.0   2024-11-11           0.089438\n",
       "46    SPY241111C00593000        593.0   2024-11-11           0.098301\n",
       "47    SPY241111C00594000        594.0   2024-11-11           0.104978\n",
       "...                  ...          ...          ...                ...\n",
       "3629  SPY270115C00880000        880.0   2027-01-15           0.106221\n",
       "3630  SPY270115C00885000        885.0   2027-01-15           0.113112\n",
       "3631  SPY270115C00890000        890.0   2027-01-15           0.108324\n",
       "3632  SPY270115C00895000        895.0   2027-01-15           0.108059\n",
       "3633  SPY270115C00900000        900.0   2027-01-15           0.114845\n",
       "\n",
       "[1895 rows x 4 columns]"
      ]
     },
     "execution_count": 65,
     "metadata": {},
     "output_type": "execute_result"
    }
   ],
   "source": [
    "imp_vol_data"
   ]
  },
  {
   "cell_type": "code",
   "execution_count": null,
   "id": "15337195-a4e9-49be-8631-66d415b7125c",
   "metadata": {},
   "outputs": [],
   "source": []
  }
 ],
 "metadata": {
  "kernelspec": {
   "display_name": "Python 3 (ipykernel)",
   "language": "python",
   "name": "python3"
  },
  "language_info": {
   "codemirror_mode": {
    "name": "ipython",
    "version": 3
   },
   "file_extension": ".py",
   "mimetype": "text/x-python",
   "name": "python",
   "nbconvert_exporter": "python",
   "pygments_lexer": "ipython3",
   "version": "3.12.7"
  }
 },
 "nbformat": 4,
 "nbformat_minor": 5
}
