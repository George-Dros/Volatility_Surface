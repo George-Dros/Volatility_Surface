
{
 "cells": [
  {
   "cell_type": "code",
   "execution_count": 91,
   "id": "26fa8306-9547-41fc-bc06-85dbee439db0",
   "metadata": {},
   "outputs": [],
   "source": [
    "import yfinance as yf\n",
    "import pandas as pd\n",
    "\n",
    "stock = yf.Ticker(\"SPY\")\n",
    "dividends = stock.dividends"
   ]
  },
  {
   "cell_type": "code",
   "execution_count": 95,
   "id": "65612efb-75df-4d83-87ac-072407999345",
   "metadata": {},
   "outputs": [],
   "source": [
    "spot_prices = stock.history(period=\"1y\")[\"Close\"].to_frame()"
   ]
  },
  {
   "cell_type": "code",
   "execution_count": 99,
   "id": "7f8554c0-32b5-4564-addc-340eda5bc110",
   "metadata": {},
   "outputs": [
    {
     "data": {
      "text/plain": [
       "252"
      ]
     },
     "execution_count": 99,
     "metadata": {},
     "output_type": "execute_result"
    }
   ],
   "source": [
    "spot_prices.shape[0]"
   ]
  },
  {
   "cell_type": "code",
   "execution_count": 105,
   "id": "70975d78-188a-4a1c-8493-ad59e8b2d99e",
   "metadata": {},
   "outputs": [
    {
     "data": {
      "text/html": [
       "<div>\n",
       "<style scoped>\n",
       "    .dataframe tbody tr th:only-of-type {\n",
       "        vertical-align: middle;\n",
       "    }\n",
       "\n",
       "    .dataframe tbody tr th {\n",
       "        vertical-align: top;\n",
       "    }\n",
       "\n",
       "    .dataframe thead th {\n",
       "        text-align: right;\n",
       "    }\n",
       "</style>\n",
       "<table border=\"1\" class=\"dataframe\">\n",
       "  <thead>\n",
       "    <tr style=\"text-align: right;\">\n",
       "      <th></th>\n",
       "      <th>Close</th>\n",
       "    </tr>\n",
       "    <tr>\n",
       "      <th>Date</th>\n",
       "      <th></th>\n",
       "    </tr>\n",
       "  </thead>\n",
       "  <tbody>\n",
       "    <tr>\n",
       "      <th>2023-11-07 00:00:00-05:00</th>\n",
       "      <td>0.002846</td>\n",
       "    </tr>\n",
       "    <tr>\n",
       "      <th>2023-11-08 00:00:00-05:00</th>\n",
       "      <td>0.000732</td>\n",
       "    </tr>\n",
       "    <tr>\n",
       "      <th>2023-11-09 00:00:00-05:00</th>\n",
       "      <td>-0.007799</td>\n",
       "    </tr>\n",
       "    <tr>\n",
       "      <th>2023-11-10 00:00:00-05:00</th>\n",
       "      <td>0.015605</td>\n",
       "    </tr>\n",
       "    <tr>\n",
       "      <th>2023-11-13 00:00:00-05:00</th>\n",
       "      <td>-0.000953</td>\n",
       "    </tr>\n",
       "  </tbody>\n",
       "</table>\n",
       "</div>"
      ],
      "text/plain": [
       "                              Close\n",
       "Date                               \n",
       "2023-11-07 00:00:00-05:00  0.002846\n",
       "2023-11-08 00:00:00-05:00  0.000732\n",
       "2023-11-09 00:00:00-05:00 -0.007799\n",
       "2023-11-10 00:00:00-05:00  0.015605\n",
       "2023-11-13 00:00:00-05:00 -0.000953"
      ]
     },
     "execution_count": 105,
     "metadata": {},
     "output_type": "execute_result"
    }
   ],
   "source": [
    "daily_returns = spot_prices.pct_change().dropna()\n",
    "daily_returns.head()"
   ]
  },
  {
   "cell_type": "code",
   "execution_count": 109,
   "id": "5df26460-b6aa-4ce9-8b23-4546c3089059",
   "metadata": {},
   "outputs": [
    {
     "data": {
      "text/plain": [
       "Close    0.120413\n",
       "dtype: float64"
      ]
     },
     "execution_count": 109,
     "metadata": {},
     "output_type": "execute_result"
    }
   ],
   "source": [
    "historical_volatility = daily_returns.std() * (252**0.5)\n",
    "historical_volatility"
   ]
  },
  {
   "cell_type": "code",
   "execution_count": null,
   "id": "ccd489d0-aa72-4711-a756-0eca9d2c46ff",
   "metadata": {},
   "outputs": [],
   "source": []
  }
 ],
 "metadata": {
  "kernelspec": {
   "display_name": "Python 3 (ipykernel)",
   "language": "python",
   "name": "python3"
  },
  "language_info": {
   "codemirror_mode": {
    "name": "ipython",
    "version": 3
   },
   "file_extension": ".py",
   "mimetype": "text/x-python",
   "name": "python",
   "nbconvert_exporter": "python",
   "pygments_lexer": "ipython3",
   "version": "3.12.7"
  }
 },
 "nbformat": 4,
 "nbformat_minor": 5
}
