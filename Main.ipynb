{

 "cells": [

  {

   "cell_type": "code",

   "execution_count": 1,

   "id": "26fa8306-9547-41fc-bc06-85dbee439db0",

   "metadata": {},

   "outputs": [],

   "source": [

    "import yfinance as yf\n",

    "import pandas as pd\n",

    "import functions as f\n",

    "import numpy as np\n",

    "\n",

    "%load_ext autoreload\n",

    "%autoreload 2\n",

    "\n",

    "stock = yf.Ticker(\"SPY\")\n",

    "dividends = stock.dividends"

   ]

  },

  {

   "cell_type": "code",

   "execution_count": 2,

   "id": "65612efb-75df-4d83-87ac-072407999345",

   "metadata": {},

   "outputs": [],

   "source": [

    "spot_prices = stock.history(period=\"1y\")[\"Close\"].to_frame()\n",

    "spot_price = stock.history(period=\"1d\")[\"Close\"].iloc[-1]"

   ]

  },

  {

   "cell_type": "code",

   "execution_count": 3,

   "id": "70975d78-188a-4a1c-8493-ad59e8b2d99e",

   "metadata": {},

   "outputs": [],

   "source": [

    "daily_returns = spot_prices.pct_change().dropna()"

   ]

  },

  {

   "cell_type": "code",

   "execution_count": 4,

   "id": "5df26460-b6aa-4ce9-8b23-4546c3089059",

   "metadata": {},

   "outputs": [],

   "source": [

    "historical_volatility = daily_returns.std() * (252**0.5)"

   ]

  },

  {

   "cell_type": "code",

   "execution_count": 5,

   "id": "ccd489d0-aa72-4711-a756-0eca9d2c46ff",

   "metadata": {},

   "outputs": [],

   "source": [

    "expiration_dates = stock.options"

   ]

  },

  {

   "cell_type": "code",

   "execution_count": 6,

   "id": "e7f1e81a-9719-4e08-bbb6-ed7072716d4f",

   "metadata": {},

   "outputs": [],

   "source": [

    "calls_all = [stock.option_chain(date).calls for date in expiration_dates]\n",

    "puts_all = [stock.option_chain(date).puts for date in expiration_dates]"

   ]

  },

  {

   "cell_type": "code",

   "execution_count": 7,

   "id": "a34b7bb3-3fb5-4456-a1a5-2feb039322f6",

   "metadata": {},

   "outputs": [],

   "source": [

    "calls_dict = {date: stock.option_chain(date).calls for date in expiration_dates}\n",

    "puts_dict = {date: stock.option_chain(date).puts for date in expiration_dates}"

   ]

  },

  {

   "cell_type": "code",

   "execution_count": 8,

   "id": "9f7f4b67-866b-4588-a2f7-e7742201d792",

   "metadata": {},

   "outputs": [],

   "source": [

    "from datetime import datetime\n",

    "\n",

    "expiration_df = pd.DataFrame({'expiration': expiration_dates})\n",

    "expiration_df['time_to_expiry'] = expiration_df['expiration'].apply(\n",

    "    lambda x: (datetime.strptime(x, '%Y-%m-%d') - datetime.now()).days / 365\n",

    ")"

   ]

  },

  {

   "cell_type": "code",

   "execution_count": 9,

   "id": "7d2fc365-9a37-4c80-8117-7261cf920476",

   "metadata": {},

   "outputs": [],

   "source": [

    "# Add expiration column to each DataFrame in calls_dict and puts_dict\n",

    "for date, df in calls_dict.items():\n",

    "    df['expiration'] = date\n",

    "\n",

    "for date, df in puts_dict.items():\n",

    "    df['expiration'] = date\n",

    "\n",

    "# Concatenate all DataFrames from calls_dict and puts_dict\n",

    "calls_all = pd.concat(calls_dict.values())\n",

    "puts_all = pd.concat(puts_dict.values())\n",

    "\n",

    "# Combine calls and puts into a single DataFrame\n",

    "options_data = pd.concat([calls_all, puts_all])\n",

    "\n",

    "# Select desired columns\n",

    "calls_data = calls_all[['contractSymbol', 'strike', 'lastPrice', 'impliedVolatility', 'expiration']]\n"

   ]

  },

  {

   "cell_type": "code",

   "execution_count": 10,

   "id": "794bb074-8680-4e6d-a4cb-7749558ac1ca",

   "metadata": {},

   "outputs": [

    {

     "data": {

      "text/plain": [

       "contractSymbol       SPY241107C00400000\n",

       "strike                            400.0\n",

       "lastPrice                         170.8\n",

       "impliedVolatility              3.398439\n",

       "expiration                   2024-11-07\n",

       "Name: 0, dtype: object"

      ]

     },

     "execution_count": 10,

     "metadata": {},

     "output_type": "execute_result"

    }

   ],

   "source": [

    "calls_data.iloc[0]"

   ]

  },

  {

   "cell_type": "code",

   "execution_count": 11,

   "id": "10f426ca-7b03-44b8-91e3-08cdbd2503c8",

   "metadata": {},

   "outputs": [

    {

     "data": {

      "text/plain": [

       "0.0"

      ]

     },

     "execution_count": 11,

     "metadata": {},

     "output_type": "execute_result"

    }

   ],

   "source": [

    "bs = f.BlackScholes(\n",

    "    type=f.OptionType.PUT,\n",

    "    spot=594.7899169921875,\n",

    "    exercise=105,\n",

    "    years=0.8931506849315068\n",

    ",\n",

    "    volatility=0.11209501132709629\n",

    ",\n",

    "    risk_free_rate=0.0442,\n",

    "    dividend_yield=0\n",

    ")\n",

    "bs.price()"

   ]

  },

  {

   "cell_type": "code",

   "execution_count": 12,

   "id": "45a25aed-25b3-4ee9-8baf-2e9ee6b55a50",

   "metadata": {},

   "outputs": [

    {

     "data": {

      "text/plain": [

       "0.11276133797401923"

      ]

     },

     "execution_count": 12,

     "metadata": {},

     "output_type": "execute_result"

    }

   ],

   "source": [

    "f.BlackScholes.find_implied_volatility(\n",

    "    type=f.OptionType.CALL,\n",

    "    spot=spot_price,\n",

    "    exercise=calls_data.iloc[3237][\"strike\"],\n",

    "    years=f.calculate_time_to_expiration(calls_data.iloc[3237][\"expiration\"]),\n",

    "    target_price=calls_data.iloc[3237][\"lastPrice\"],\n",

    "    risk_free_rate=0.0442,\n",

    "    dividend_yield=0\n",

    ")\n"

   ]

  },

  {

   "cell_type": "code",

   "execution_count": 13,

   "id": "ee8d96e7-0c05-468d-b11b-7019d5491adb",

   "metadata": {},

   "outputs": [

    {

     "data": {

      "text/plain": [

       "0.8931506849315068"

      ]

     },

     "execution_count": 13,

     "metadata": {},

     "output_type": "execute_result"

    }

   ],

   "source": [

    "f.calculate_time_to_expiration(calls_data.iloc[3237][\"expiration\"])"

   ]

  },

  {

   "cell_type": "code",

   "execution_count": 14,

   "id": "4b0da265-f2a4-436c-8087-ee3557b35f6e",

   "metadata": {},

   "outputs": [

    {

     "data": {

      "text/plain": [

       "685.0"

      ]

     },

     "execution_count": 14,

     "metadata": {},

     "output_type": "execute_result"

    }

   ],

   "source": [

    "calls_data.iloc[3237][\"strike\"]"

   ]

  },

  {

   "cell_type": "code",

   "execution_count": 15,

   "id": "6a5b115d-78dd-47fa-a104-e7f0b7140482",

   "metadata": {},

   "outputs": [

    {

     "data": {

      "text/plain": [

       "6.2"

      ]

     },

     "execution_count": 15,

     "metadata": {},

     "output_type": "execute_result"

    }

   ],

   "source": [

    "calls_data.iloc[3237][\"lastPrice\"]"

   ]

  },

  {

   "cell_type": "code",

   "execution_count": 16,

   "id": "0758900d-eb4a-4403-aa05-0aae0ed4334a",

   "metadata": {},

   "outputs": [

    {

     "data": {

      "text/plain": [

       "contractSymbol       SPY250930C00685000\n",

       "strike                            685.0\n",

       "lastPrice                           6.2\n",

       "impliedVolatility              0.139642\n",

       "expiration                   2025-09-30\n",

       "Name: 122, dtype: object"

      ]

     },

     "execution_count": 16,

     "metadata": {},

     "output_type": "execute_result"

    }

   ],

   "source": [

    "calls_data.iloc[3237]"

   ]

  },

  {

   "cell_type": "code",

   "execution_count": 17,

   "id": "35b77452-0bee-4640-b8d1-3fc16db06b66",

   "metadata": {},

   "outputs": [

    {

     "data": {

      "text/plain": [

       "pandas.core.frame.DataFrame"

      ]

     },

     "execution_count": 17,

     "metadata": {},

     "output_type": "execute_result"

    }

   ],

   "source": [

    "type(calls_data)"

   ]

  },

  {

   "cell_type": "code",

   "execution_count": 18,

   "id": "13f5995b-86f3-4e41-93f0-30bf5fa82cab",

   "metadata": {},

   "outputs": [],

   "source": [

    "import warnings\n",

    "warnings.filterwarnings(\"ignore\", category=FutureWarning)\n",

    "warnings.filterwarnings(\"ignore\", category=RuntimeWarning)\n",

    "\n",

    "imp_vol_data = pd.DataFrame(columns=[\"ContractSymbol\",\"StrikePrice\",\"TimeToExpiry\", \"ImpliedVolatility\"])\n",

    "imp_vol_data.name = \"ImpliedVolatility\"\n",

    "df_index = 0\n",

    "\n",

    "for i in range(len(calls_data)):\n",

    "    if f.calculate_time_to_expiration(calls_data.iloc[i][\"expiration\"]) > 0:\n",

    "        imp = f.BlackScholes.find_implied_volatility(\n",

    "        type=f.OptionType.CALL,\n",

    "        spot=spot_price,\n",

    "        exercise=calls_data.iloc[i][\"strike\"],\n",

    "        years=f.calculate_time_to_expiration(calls_data.iloc[i][\"expiration\"]),\n",

    "        target_price=calls_data.iloc[i][\"lastPrice\"],\n",

    "        risk_free_rate=0.0442,\n",

    "        dividend_yield=0\n",

    "        )\n",

    "        imp_vol_data.loc[df_index] = [calls_data.iloc[i]['contractSymbol'],calls_data.iloc[i][\"strike\"],\\\n",

    "                                calls_data.iloc[i][\"expiration\"],imp]\n",

    "        df_index += 1           `"

   ]

  },

  {

   "cell_type": "code",

   "execution_count": 19,

   "id": "afdf87f2-d9e4-461c-8a76-584176e9a79b",

   "metadata": {},

   "outputs": [],

   "source": [

    "imp_vol_data = imp_vol_data.dropna()"

   ]

  },

  {

   "cell_type": "code",

   "execution_count": 20,

   "id": "905b2c37-7b76-4180-a258-e8375e3b83f2",

   "metadata": {},

   "outputs": [

    {

     "data": {

      "text/html": [

       "<div>\n",

       "<style scoped>\n",

       "    .dataframe tbody tr th:only-of-type {\n",

       "        vertical-align: middle;\n",

       "    }\n",

       "\n",

       "    .dataframe tbody tr th {\n",

       "        vertical-align: top;\n",

       "    }\n",

       "\n",

       "    .dataframe thead th {\n",

       "        text-align: right;\n",

       "    }\n",

       "</style>\n",

       "<table border=\"1\" class=\"dataframe\">\n",

       "  <thead>\n",

       "    <tr style=\"text-align: right;\">\n",

       "      <th></th>\n",

       "      <th>ContractSymbol</th>\n",

       "      <th>StrikePrice</th>\n",

       "      <th>TimeToExpiry</th>\n",

       "      <th>ImpliedVolatility</th>\n",

       "    </tr>\n",

       "  </thead>\n",

       "  <tbody>\n",

       "    <tr>\n",

       "      <th>13</th>\n",

       "      <td>SPY241111C00560000</td>\n",

       "      <td>560.0</td>\n",

       "      <td>2024-11-11</td>\n",

       "      <td>0.289900</td>\n",

       "    </tr>\n",

       "    <tr>\n",

       "      <th>17</th>\n",

       "      <td>SPY241111C00564000</td>\n",

       "      <td>564.0</td>\n",

       "      <td>2024-11-11</td>\n",

       "      <td>0.339456</td>\n",

       "    </tr>\n",

       "    <tr>\n",

       "      <th>19</th>\n",

       "      <td>SPY241111C00566000</td>\n",

       "      <td>566.0</td>\n",

       "      <td>2024-11-11</td>\n",

       "      <td>0.429054</td>\n",

       "    </tr>\n",

       "    <tr>\n",

       "      <th>21</th>\n",

       "      <td>SPY241111C00568000</td>\n",

       "      <td>568.0</td>\n",

       "      <td>2024-11-11</td>\n",

       "      <td>0.369764</td>\n",

       "    </tr>\n",

       "    <tr>\n",

       "      <th>23</th>\n",

       "      <td>SPY241111C00570000</td>\n",

       "      <td>570.0</td>\n",

       "      <td>2024-11-11</td>\n",

       "      <td>0.266158</td>\n",

       "    </tr>\n",

       "    <tr>\n",

       "      <th>...</th>\n",

       "      <td>...</td>\n",

       "      <td>...</td>\n",

       "      <td>...</td>\n",

       "      <td>...</td>\n",

       "    </tr>\n",

       "    <tr>\n",

       "      <th>3641</th>\n",

       "      <td>SPY270115C00880000</td>\n",

       "      <td>880.0</td>\n",

       "      <td>2027-01-15</td>\n",

       "      <td>0.115205</td>\n",

       "    </tr>\n",

       "    <tr>\n",

       "      <th>3642</th>\n",

       "      <td>SPY270115C00885000</td>\n",

       "      <td>885.0</td>\n",

       "      <td>2027-01-15</td>\n",

       "      <td>0.113241</td>\n",

       "    </tr>\n",

       "    <tr>\n",

       "      <th>3643</th>\n",

       "      <td>SPY270115C00890000</td>\n",

       "      <td>890.0</td>\n",

       "      <td>2027-01-15</td>\n",

       "      <td>0.111710</td>\n",

       "    </tr>\n",

       "    <tr>\n",

       "      <th>3644</th>\n",

       "      <td>SPY270115C00895000</td>\n",

       "      <td>895.0</td>\n",

       "      <td>2027-01-15</td>\n",

       "      <td>0.108180</td>\n",

       "    </tr>\n",

       "    <tr>\n",

       "      <th>3645</th>\n",

       "      <td>SPY270115C00900000</td>\n",

       "      <td>900.0</td>\n",

       "      <td>2027-01-15</td>\n",

       "      <td>0.113278</td>\n",

       "    </tr>\n",

       "  </tbody>\n",

       "</table>\n",

       "<p>2094 rows × 4 columns</p>\n",

       "</div>"

      ],

      "text/plain": [

       "          ContractSymbol  StrikePrice TimeToExpiry  ImpliedVolatility\n",

       "13    SPY241111C00560000        560.0   2024-11-11           0.289900\n",

       "17    SPY241111C00564000        564.0   2024-11-11           0.339456\n",

       "19    SPY241111C00566000        566.0   2024-11-11           0.429054\n",

       "21    SPY241111C00568000        568.0   2024-11-11           0.369764\n",

       "23    SPY241111C00570000        570.0   2024-11-11           0.266158\n",

       "...                  ...          ...          ...                ...\n",

       "3641  SPY270115C00880000        880.0   2027-01-15           0.115205\n",

       "3642  SPY270115C00885000        885.0   2027-01-15           0.113241\n",

       "3643  SPY270115C00890000        890.0   2027-01-15           0.111710\n",

       "3644  SPY270115C00895000        895.0   2027-01-15           0.108180\n",

       "3645  SPY270115C00900000        900.0   2027-01-15           0.113278\n",

       "\n",

       "[2094 rows x 4 columns]"

      ]

     },

     "execution_count": 20,

     "metadata": {},

     "output_type": "execute_result"

    }

   ],

   "source": [

    "imp_vol_data"

   ]

  },

  {

   "cell_type": "code",

   "execution_count": 21,

   "id": "15337195-a4e9-49be-8631-66d415b7125c",

   "metadata": {},

   "outputs": [],

   "source": [

    "min_percentage = 0.7\n",

    "max_percentage = 1.3\n",

    "\n",

    "min_strike_price = spot_price * min_percentage\n",

    "max_strike_price = spot_price * max_percentage\n",

    "\n",

    "num_points = 100  # Number of points in the range\n",

    "strike_prices = np.linspace(min_strike_price, max_strike_price, num_points)"

   ]

  },

  {

   "cell_type": "code",

   "execution_count": 44,

   "id": "f7555036-abb5-43dc-8562-b5b7b0d6f8f8",

   "metadata": {},

   "outputs": [

    {

     "data": {

      "text/plain": [

       "array([416.92698975, 420.53674723, 424.14650472, 427.75626221,\n",

       "       431.36601969, 434.97577718, 438.58553467, 442.19529215,\n",

       "       445.80504964, 449.41480713, 453.02456462, 456.6343221 ,\n",

       "       460.24407959, 463.85383708, 467.46359456, 471.07335205,\n",

       "       474.68310954, 478.29286702, 481.90262451, 485.512382  ,\n",

       "       489.12213949, 492.73189697, 496.34165446, 499.95141195,\n",

       "       503.56116943, 507.17092692, 510.78068441, 514.39044189,\n",

       "       518.00019938, 521.60995687, 525.21971436, 528.82947184,\n",

       "       532.43922933, 536.04898682, 539.6587443 , 543.26850179,\n",

       "       546.87825928, 550.48801676, 554.09777425, 557.70753174,\n",

       "       561.31728923, 564.92704671, 568.5368042 , 572.14656169,\n",

       "       575.75631917, 579.36607666, 582.97583415, 586.58559163,\n",

       "       590.19534912, 593.80510661, 597.4148641 , 601.02462158,\n",

       "       604.63437907, 608.24413656, 611.85389404, 615.46365153,\n",

       "       619.07340902, 622.6831665 , 626.29292399, 629.90268148,\n",

       "       633.51243896, 637.12219645, 640.73195394, 644.34171143,\n",

       "       647.95146891, 651.5612264 , 655.17098389, 658.78074137,\n",

       "       662.39049886, 666.00025635, 669.61001383, 673.21977132,\n",

       "       676.82952881, 680.4392863 , 684.04904378, 687.65880127,\n",

       "       691.26855876, 694.87831624, 698.48807373, 702.09783122,\n",

       "       705.7075887 , 709.31734619, 712.92710368, 716.53686117,\n",

       "       720.14661865, 723.75637614, 727.36613363, 730.97589111,\n",

       "       734.5856486 , 738.19540609, 741.80516357, 745.41492106,\n",

       "       749.02467855, 752.63443604, 756.24419352, 759.85395101,\n",

       "       763.4637085 , 767.07346598, 770.68322347, 774.29298096])"

      ]

     },

     "execution_count": 44,

     "metadata": {},

     "output_type": "execute_result"

    }

   ],

   "source": [

    "strike_prices"

   ]

  },

  {

   "cell_type": "code",

   "execution_count": null,

   "id": "2d1724e9-fa77-488b-b936-814ce9082fd2",

   "metadata": {},

   "outputs": [],

   "source": []

  }

 ],

 "metadata": {

  "kernelspec": {

   "display_name": "Python 3 (ipykernel)",

   "language": "python",

   "name": "python3"

  },

  "language_info": {

   "codemirror_mode": {

    "name": "ipython",

    "version": 3

   },

   "file_extension": ".py",

   "mimetype": "text/x-python",

   "name": "python",

   "nbconvert_exporter": "python",

   "pygments_lexer": "ipython3",

   "version": "3.12.7"

  }

 },

 "nbformat": 4,

 "nbformat_minor": 5

}

